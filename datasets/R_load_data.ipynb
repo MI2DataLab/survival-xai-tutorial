{
 "cells": [
  {
   "cell_type": "markdown",
   "metadata": {},
   "source": [
    "# Code snippets for loading survival datasets into R"
   ]
  },
  {
   "cell_type": "markdown",
   "metadata": {},
   "source": [
    "## `lung`\n",
    "\n",
    "Sourced from the R `survival` package.\n",
    "\n",
    "**Shape:**\n",
    "167 observations of 9 variables,\n",
    "\n",
    "Survival in patients with advanced lung cancer from the North Central Cancer Treatment Group. Performance scores rate how well the patient can perform usual daily activities.\n",
    "\n",
    "**References:**\n",
    "- Loprinzi CL. et al. (1994). Prospective evaluation of prognostic variables from patient-completed questionnaires. North Central Cancer Treatment Group. Journal of Clinical Oncology. 12(3):601-7."
   ]
  },
  {
   "cell_type": "code",
   "execution_count": 23,
   "metadata": {
    "vscode": {
     "languageId": "r"
    }
   },
   "outputs": [],
   "source": [
    "lung_df <- read.csv(\"lung_dataset.csv\", header = TRUE)\n",
    "lung_df <- lung_df[complete.cases(lung_df),]\n",
    "\n",
    "# Surv(time, status)"
   ]
  },
  {
   "cell_type": "markdown",
   "metadata": {},
   "source": [
    "## `udca`\n",
    "\n",
    "Sourced from the R `survival` package.\n",
    "\n",
    "**Shape:**\n",
    "169 observations of 6 variables,\n",
    "\n",
    "Data from a trial of ursodeoxycholic acid (UDCA) in patients with primary biliary cirrohosis (PBC).\n",
    "\n",
    "**References:**\n",
    "- T. M. Therneau and P. M. Grambsch. (2000). Modeling survival data: extending the Cox model. Springer.\n",
    "- K. D. Lindor et al. (1994). Ursodeoxycholic acid in the treatment of primary biliary cirrhosis. Gastroenterology, 106:1284-1290"
   ]
  },
  {
   "cell_type": "code",
   "execution_count": 24,
   "metadata": {
    "vscode": {
     "languageId": "r"
    }
   },
   "outputs": [],
   "source": [
    "udca_df <- read.csv(\"udca_dataset.csv\", header = TRUE)\n",
    "udca_df <- udca_df[complete.cases(udca_df),]\n",
    "\n",
    "# Surv(time, status)"
   ]
  },
  {
   "cell_type": "markdown",
   "metadata": {},
   "source": [
    "## `diabetic`\n",
    "\n",
    "Sourced from the R `survival` package.\n",
    "\n",
    "**Shape:**\n",
    "394 observations of 8 variables,\n",
    "\n",
    "Partial results from a trial of laser coagulation for the treatment of diabetic retinopathy.\n",
    "\n",
    "**References:**\n",
    "- Huster, Brookmeyer and Self, Biometrics, 1989.\n",
    "- American Journal of Ophthalmology, 1976, 81:4, pp 383-396"
   ]
  },
  {
   "cell_type": "code",
   "execution_count": 25,
   "metadata": {
    "vscode": {
     "languageId": "r"
    }
   },
   "outputs": [],
   "source": [
    "diabetic_df <- read.csv(\"diabetic_dataset.csv\", header = TRUE)\n",
    "diabetic_df <- diabetic_df[complete.cases(diabetic_df),]\n",
    "\n",
    "# Surv(time, status)"
   ]
  },
  {
   "cell_type": "markdown",
   "metadata": {},
   "source": [
    "## `flchain`\n",
    "\n",
    "Sourced from the R `survival` package.\n",
    "\n",
    "**Shape:**\n",
    "1962 observations of 11 variables,\n",
    "\n",
    "This is a stratified random sample containing 1/2 of the subjects from a study of the relationship between serum free light chain (FLC) and mortality. \n",
    "\n",
    "**References:**\n",
    "- A Dispenzieri et al. (2012). Use of monclonal serum immunoglobulin free light chains to predict overall survival in the general population, Mayo Clinic Proceedings 87:512-523.\n",
    "- R Kyle et al. (2006). Prevalence of monoclonal gammopathy of undetermined significance, New England J Medicine 354:1362-1369."
   ]
  },
  {
   "cell_type": "code",
   "execution_count": 26,
   "metadata": {
    "vscode": {
     "languageId": "r"
    }
   },
   "outputs": [],
   "source": [
    "flchain_df <- read.csv(\"flchain_dataset.csv\", header = TRUE)\n",
    "flchain_df <- flchain_df[complete.cases(flchain_df),]\n",
    "\n",
    "# Surv(futime, death)"
   ]
  },
  {
   "cell_type": "markdown",
   "metadata": {},
   "source": [
    "## `rotterdam`\n",
    "\n",
    "Sourced from the R `survival` package.\n",
    "\n",
    "**Shape:**\n",
    "2982 observations of 11 variables,\n",
    "\n",
    "This dataset includes 2982 primary breast cancers patients whose records were included in the Rotterdam tumor bank.\n",
    "\n",
    "**References:**\n",
    "- Patrick Royston and Douglas Altman. (2013). External validation of a Cox prognostic model: principles and methods. BMC Medical Research Methodology, 13:33"
   ]
  },
  {
   "cell_type": "code",
   "execution_count": 27,
   "metadata": {
    "vscode": {
     "languageId": "r"
    }
   },
   "outputs": [],
   "source": [
    "rotterdam_df <- read.csv(\"rotterdam_dataset.csv\", header = TRUE)\n",
    "rotterdam_df <- rotterdam_df[complete.cases(rotterdam_df),]\n",
    "\n",
    "# Surv(dtime, death)"
   ]
  },
  {
   "cell_type": "markdown",
   "metadata": {},
   "source": [
    "## `patient`\n",
    "\n",
    "Sourced from the R `pammtools` package.\n",
    "\n",
    "**Shape:**\n",
    "1985 observations of 9 variables,\n",
    "\n",
    "A data set containing the survival time (or hospital release time) among other covariates. The full data is available [here](https://github.com/adibender/elra-biostats). \n"
   ]
  },
  {
   "cell_type": "code",
   "execution_count": 28,
   "metadata": {
    "vscode": {
     "languageId": "r"
    }
   },
   "outputs": [],
   "source": [
    "patient_df <- read.csv(\"patient_dataset.csv\", header = TRUE)\n",
    "patient_df <- patient_df[complete.cases(patient_df),]\n",
    "\n",
    "# Surv(Survdays, PatientDied)"
   ]
  },
  {
   "cell_type": "markdown",
   "metadata": {},
   "source": [
    "## `pbc`\n",
    "\n",
    "Sourced from the R `randomForestSRC` package.\n",
    "\n",
    "**Shape:**\n",
    "276 observations of 19 variables,\n",
    "\n",
    "This data is from the Mayo Clinic trial in PBC conducted between 1974 and 1984. A total of 424 PBC patients, referred to Mayo Clinic during that ten-year interval, met eligibility criteria for the randomized placebo controlled trial of the drug D-penicillamine.\n",
    "\n",
    "**References:**\n",
    "- T Therneau and P Grambsch. (2000). Modeling Survival Data: Extending the Cox Model, Springer-Verlag, New York. ISBN: 0-387-98784-3."
   ]
  },
  {
   "cell_type": "code",
   "execution_count": 29,
   "metadata": {
    "vscode": {
     "languageId": "r"
    }
   },
   "outputs": [],
   "source": [
    "pbc_df <- read.csv(\"pbc_dataset.csv\", header = TRUE)\n",
    "pbc_df <- pbc_df[complete.cases(pbc_df),]\n",
    "\n",
    "# Surv(days, status)"
   ]
  },
  {
   "cell_type": "markdown",
   "metadata": {},
   "source": [
    "## `ttm`\n",
    "\n",
    "Sourced from the R `randomForestSRC` package.\n",
    "\n",
    "**Shape:**\n",
    "551 observations of 47 variables. \n",
    "\n",
    "Number of days before a movie grosses $1M USD. These data are a somewhat biased random sample of 551 movies released between 2015 and 2018.\n"
   ]
  },
  {
   "cell_type": "code",
   "execution_count": 30,
   "metadata": {
    "vscode": {
     "languageId": "r"
    }
   },
   "outputs": [],
   "source": [
    "ttm_df <- read.csv(\"ttm_dataset.csv\", header = TRUE)\n",
    "ttm_df <- ttm_df[complete.cases(ttm_df),]\n",
    "\n",
    "# Surv(time, event)"
   ]
  }
 ],
 "metadata": {
  "kernelspec": {
   "display_name": "R",
   "language": "R",
   "name": "ir"
  },
  "language_info": {
   "codemirror_mode": "r",
   "file_extension": ".r",
   "mimetype": "text/x-r-source",
   "name": "R",
   "pygments_lexer": "r",
   "version": "4.3.1"
  }
 },
 "nbformat": 4,
 "nbformat_minor": 2
}
