{
 "cells": [
  {
   "cell_type": "markdown",
   "metadata": {},
   "source": [
    "# Dancing with censored data: How to survive with explainable survival analysis?\n",
    "**ML in PL Conference 2023**\n",
    "\n",
    "\n",
    "Mateusz Krzyziński, Mikołaj Spytek (**MI2.AI**)\n"
   ]
  },
  {
   "cell_type": "markdown",
   "metadata": {},
   "source": [
    "## Agenda\n",
    "\n",
    "- 9:00 - 9:15 - Introduction, technicalities\n",
    "- 9:15 - 10:00 - ML in survival analysis, creating models `(Python and R)`\n",
    "- 10:00 - 10:10 - *break*\n",
    "\n",
    "- 10:10 - 10:20 - XAI in survival analysis\n",
    "- 10:20 - 10:45 - SurvLIME `(Python and R)`\n",
    "- 10:45 - 11:30 - SurvSHAP(t) and its aggregations `(Python and R)`\n",
    "- 11:30 - 11:40 - *break*\n",
    "\n",
    "- 11:40 - 11:50 - creating explainers for any models `(R with Python via reticulate)`\n",
    "- 11:50 - 12:15 - global performance & global variable importance explanations `(R)`\n",
    "- 12:15 - 12:30 - local variable dependence explanations `(R)`\n",
    "- 12:30 - 12:45 - global variable dependence explanations `(R)`\n",
    "- 12:45 - 13:00 - summary and Q&A\n"
   ]
  },
  {
   "cell_type": "markdown",
   "metadata": {},
   "source": [
    "## Loading packages"
   ]
  },
  {
   "cell_type": "code",
   "execution_count": null,
   "metadata": {},
   "outputs": [],
   "source": [
    "import pandas as pd\n",
    "import random\n",
    "from sksurv.datasets import get_x_y\n",
    "from sksurv.linear_model import CoxPHSurvivalAnalysis\n",
    "from sksurv.ensemble import RandomSurvivalForest\n",
    "\n",
    "from survshap import SurvivalModelExplainer, ModelSurvSHAP, PredictSurvSHAP"
   ]
  },
  {
   "cell_type": "markdown",
   "metadata": {},
   "source": [
    "## Loading data"
   ]
  },
  {
   "cell_type": "code",
   "execution_count": null,
   "metadata": {},
   "outputs": [],
   "source": [
    "df = pd.read_csv(\"datasets/veterans.csv\")\n",
    "df = df.dropna()\n",
    "df = pd.get_dummies(df, drop_first=True, dtype=float)\n",
    "\n",
    "X, y = get_x_y(df, [\"status\", \"time\"], pos_label=1)"
   ]
  },
  {
   "cell_type": "markdown",
   "metadata": {},
   "source": [
    "## Creating models"
   ]
  },
  {
   "cell_type": "code",
   "execution_count": null,
   "metadata": {},
   "outputs": [],
   "source": [
    "cph_model = CoxPHSurvivalAnalysis()\n",
    "cph_model.fit(X, y)"
   ]
  },
  {
   "cell_type": "code",
   "execution_count": null,
   "metadata": {},
   "outputs": [],
   "source": [
    "random.seed(123)\n",
    "rsf_model = RandomSurvivalForest(n_estimators=100)\n",
    "rsf_model.fit(X, y)"
   ]
  },
  {
   "cell_type": "markdown",
   "metadata": {},
   "source": [
    "## SurvSHAP(t)"
   ]
  },
  {
   "cell_type": "markdown",
   "metadata": {},
   "source": [
    "- based on SHAP (SHapley Additive exPlanations) method \n",
    "- local explanation method (for one observation & prediction)\n",
    "- **main idea:** allow for time-dependent explainability better suited to complex models\n",
    "- **the explanation:** curves showing the attribution of each feature to the prediction over time (can be aggregated to single numbers)\n",
    "\n",
    "- **formula:**\n",
    "$$\\phi_{t}(\\mathbf{x}_*, d) = \\frac{1}{|\\Pi|} \\sum_{\\pi \\in \\Pi} e_{t, \\mathbf{x}_*}^{\\mathrm{before}(\\pi, d) \\cup \\{d\\}} - e_{t, \\mathbf{x}_*}^{\\mathrm{before}(\\pi, d)},$$ \n",
    "where $\\Pi$ is a set of all permutations of $p$ variables and $\\mathrm{before}(\\pi, d)$ denotes a subset of predictors that are before $d$ in the ordering $\\pi \\in \\Pi$.\n",
    "\n",
    "- **local variable importance:**\n",
    "$    \\psi(\\textbf{x}_*, d) = \\int_0^{t_m} \\left| \\phi_{t}(\\textbf{x}_*, d)\\right| \\, \\mathrm{d}w(t) $\n",
    "\n",
    "<img src=\"images/survshap.png\" width=\"800\"/>\n",
    "\n",
    "\n",
    "Krzyziński, M., Spytek, M., Baniecki, H., & Biecek, P. (2023). **SurvSHAP(t): Time-dependent explanations of machine learning survival models**. Knowledge-Based Systems, 262, 110234. https://doi.org/10.1016/j.knosys.2022.110234"
   ]
  },
  {
   "cell_type": "code",
   "execution_count": null,
   "metadata": {},
   "outputs": [],
   "source": [
    "patientA = X.iloc[23]\n",
    "patientA"
   ]
  },
  {
   "cell_type": "code",
   "execution_count": null,
   "metadata": {},
   "outputs": [],
   "source": [
    "survshap_cph_explainer = SurvivalModelExplainer(cph_model, X, y)\n",
    "survshap_rsf_explainer = SurvivalModelExplainer(rsf_model, X, y)"
   ]
  },
  {
   "cell_type": "code",
   "execution_count": null,
   "metadata": {},
   "outputs": [],
   "source": [
    "survshap_cph_explanation = PredictSurvSHAP()\n",
    "survshap_cph_explanation.fit(survshap_cph_explainer, patientA)"
   ]
  },
  {
   "cell_type": "code",
   "execution_count": null,
   "metadata": {},
   "outputs": [],
   "source": [
    "survshap_cph_explanation.result"
   ]
  },
  {
   "cell_type": "code",
   "execution_count": null,
   "metadata": {},
   "outputs": [],
   "source": [
    "survshap_cph_explanation.plot()"
   ]
  },
  {
   "cell_type": "code",
   "execution_count": null,
   "metadata": {},
   "outputs": [],
   "source": [
    "survshap_cph_explanation.plot(x_range=[0, 300])"
   ]
  },
  {
   "cell_type": "code",
   "execution_count": null,
   "metadata": {},
   "outputs": [],
   "source": [
    "survshap_rsf_explanation = PredictSurvSHAP()\n",
    "survshap_rsf_explanation.fit(survshap_rsf_explainer, patientA)"
   ]
  },
  {
   "cell_type": "code",
   "execution_count": null,
   "metadata": {},
   "outputs": [],
   "source": [
    "survshap_rsf_explanation.plot(x_range=[0, 300])"
   ]
  },
  {
   "cell_type": "code",
   "execution_count": null,
   "metadata": {},
   "outputs": [],
   "source": [
    "survshap_rsf_explanation.simplified_result"
   ]
  },
  {
   "cell_type": "markdown",
   "metadata": {},
   "source": [
    "### Using other forms of predictions   "
   ]
  },
  {
   "cell_type": "code",
   "execution_count": null,
   "metadata": {},
   "outputs": [],
   "source": [
    "survshap_rsf_explanation_chf = PredictSurvSHAP(function_type = \"chf\")\n",
    "survshap_rsf_explanation_chf.fit(survshap_rsf_explainer, patientA)\n",
    "survshap_rsf_explanation_chf.plot()"
   ]
  },
  {
   "cell_type": "markdown",
   "metadata": {},
   "source": [
    "## SurvSHAP(t) aggregations \n",
    "- global (model) explanations based on local explanations\n",
    "- can be calculated for each model but it is computationally expensive \n",
    "- for tree-based models can be calculated faster using TreeSHAP algorithm (`treeshap` package)"
   ]
  },
  {
   "cell_type": "code",
   "execution_count": null,
   "metadata": {},
   "outputs": [],
   "source": [
    "model_survshap = ModelSurvSHAP(calculation_method=\"treeshap\")"
   ]
  },
  {
   "cell_type": "code",
   "execution_count": null,
   "metadata": {},
   "outputs": [],
   "source": [
    "model_survshap.fit(survshap_rsf_explainer, X.iloc[:50])"
   ]
  },
  {
   "cell_type": "code",
   "execution_count": null,
   "metadata": {},
   "outputs": [],
   "source": [
    "model_survshap.plot_mean_abs_shap_values(x_range=[0, 300])"
   ]
  },
  {
   "cell_type": "code",
   "execution_count": null,
   "metadata": {},
   "outputs": [],
   "source": [
    "model_survshap.result"
   ]
  },
  {
   "cell_type": "code",
   "execution_count": null,
   "metadata": {},
   "outputs": [],
   "source": [
    "model_survshap.plot_shap_lines_for_all_individuals(variable = \"karno\", x_range=[0, 300])"
   ]
  },
  {
   "cell_type": "code",
   "execution_count": null,
   "metadata": {},
   "outputs": [],
   "source": [
    "model_survshap.plot_shap_lines_for_all_individuals(variable = \"karno\", x_range=[0, 300], boxplot = True)"
   ]
  }
 ],
 "metadata": {
  "kernelspec": {
   "display_name": ".venv",
   "language": "python",
   "name": "python3"
  },
  "language_info": {
   "codemirror_mode": {
    "name": "ipython",
    "version": 3
   },
   "file_extension": ".py",
   "mimetype": "text/x-python",
   "name": "python",
   "nbconvert_exporter": "python",
   "pygments_lexer": "ipython3",
   "version": "3.9.6"
  }
 },
 "nbformat": 4,
 "nbformat_minor": 2
}
