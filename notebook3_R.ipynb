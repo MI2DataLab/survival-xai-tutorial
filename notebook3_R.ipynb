{
 "cells": [
  {
   "cell_type": "markdown",
   "metadata": {},
   "source": [
    "# Dancing with censored data: How to survive with explainable survival analysis?\n",
    "**ML in PL Conference 2023**\n",
    "\n",
    "\n",
    "Mateusz Krzyziński, Mikołaj Spytek (**MI2.AI**)\n"
   ]
  },
  {
   "cell_type": "markdown",
   "metadata": {},
   "source": [
    "## Agenda\n",
    "\n",
    "- 9:00 - 9:15 - Introduction, technicalities\n",
    "- 9:15 - 10:00 - ML in survival analysis, creating models `(Python and R)`\n",
    "- 10:00 - 10:10 - *break*\n",
    "\n",
    "- 10:10 - 10:20 - XAI in survival analysis\n",
    "- 10:20 - 10:45 - SurvLIME `(Python and R)`\n",
    "- 10:45 - 11:30 - SurvSHAP(t) and its aggregations `(Python and R)`\n",
    "- 11:30 - 11:40 - *break*\n",
    "\n",
    "- 11:40 - 11:50 - creating explainers for any models `(R with Python via reticulate)`\n",
    "- 11:50 - 12:15 - global performance & global variable importance explanations `(R)`\n",
    "- 12:15 - 12:30 - local variable dependence explanations `(R)`\n",
    "- 12:30 - 12:45 - global variable dependence explanations `(R)`\n",
    "- 12:45 - 13:00 - summary and Q&A\n"
   ]
  },
  {
   "cell_type": "markdown",
   "metadata": {},
   "source": [
    "## Loading packages"
   ]
  },
  {
   "cell_type": "code",
   "execution_count": null,
   "metadata": {
    "vscode": {
     "languageId": "r"
    }
   },
   "outputs": [],
   "source": [
    "library(survival)\n",
    "library(survex)\n",
    "library(ingredients)\n",
    "library(reticulate)\n",
    "library(ranger)"
   ]
  },
  {
   "cell_type": "code",
   "execution_count": null,
   "metadata": {
    "vscode": {
     "languageId": "r"
    }
   },
   "outputs": [],
   "source": [
    "options(jupyter.plot_scale=1, repr.plot.width = 6, repr.plot.height = 4)"
   ]
  },
  {
   "cell_type": "markdown",
   "metadata": {},
   "source": [
    "## Creating `survex` explainer for a `scikit-survival` model\n",
    "`survex` offers automatic explainer creation for `scikit-survival` models loaded into R via `reticulate` package.\n",
    "\n",
    "\n"
   ]
  },
  {
   "cell_type": "code",
   "execution_count": null,
   "metadata": {
    "vscode": {
     "languageId": "r"
    }
   },
   "outputs": [],
   "source": [
    "use_python(\"./tutorial-env/bin/python\")"
   ]
  },
  {
   "cell_type": "code",
   "execution_count": null,
   "metadata": {
    "vscode": {
     "languageId": "r"
    }
   },
   "outputs": [],
   "source": [
    "# Python packages imports\n",
    "py <- import_builtins()\n",
    "sksurv <- import(\"sksurv\")\n",
    "pickle <- import(\"pickle\")"
   ]
  },
  {
   "cell_type": "code",
   "execution_count": null,
   "metadata": {
    "vscode": {
     "languageId": "r"
    }
   },
   "outputs": [],
   "source": [
    "rsf_sksurv_model <- pickle$load(py$open(\"./rsf_sksurv_model.pkl\", \"rb\"))"
   ]
  },
  {
   "cell_type": "code",
   "execution_count": null,
   "metadata": {
    "vscode": {
     "languageId": "r"
    }
   },
   "outputs": [],
   "source": [
    "class(rsf_sksurv_model)"
   ]
  },
  {
   "cell_type": "code",
   "execution_count": null,
   "metadata": {
    "vscode": {
     "languageId": "r"
    }
   },
   "outputs": [],
   "source": [
    "df = read.csv(\"datasets/lung_dataset.csv\")\n",
    "df = df[complete.cases(df), ]"
   ]
  },
  {
   "cell_type": "code",
   "execution_count": null,
   "metadata": {
    "vscode": {
     "languageId": "r"
    }
   },
   "outputs": [],
   "source": [
    "rsf_sksurv_model$predict_survival_function(df[1, 3:9])"
   ]
  },
  {
   "cell_type": "code",
   "execution_count": null,
   "metadata": {
    "vscode": {
     "languageId": "r"
    }
   },
   "outputs": [],
   "source": [
    "rsf_sksurv_explainer <- explain(rsf_sksurv_model, data = df[,3:9], y = Surv(df$time, df$status), label = \"sksurv_rf\")"
   ]
  },
  {
   "cell_type": "code",
   "execution_count": null,
   "metadata": {
    "vscode": {
     "languageId": "r"
    }
   },
   "outputs": [],
   "source": [
    "rsf_sksurv_explainer$times <- rsf_sksurv_explainer$times[1:49]"
   ]
  },
  {
   "cell_type": "code",
   "execution_count": null,
   "metadata": {
    "vscode": {
     "languageId": "r"
    }
   },
   "outputs": [],
   "source": [
    "surv_probs <- predict(rsf_sksurv_explainer, df[1:2, 3:9], type = \"survival\")\n",
    "plot(rsf_sksurv_explainer$times, surv_probs[1,], type = \"l\", ylab = \"Survival probability\", xlab = \"Time\", ylim = c(0, 1))\n",
    "lines(rsf_sksurv_explainer$times, surv_probs[2,], col = \"red\")"
   ]
  },
  {
   "cell_type": "markdown",
   "metadata": {},
   "source": [
    "## Creating `survex` explainer for any model\n",
    "`survex` offers support for creating explainers for any model, not only those with automatic explainer creation.\n",
    "\n",
    "To be precise, `explainer` object is always created but to be useful it needs to be filled with data and prediction functions. Due to the connections between different forms of survival models' predictions, it is enough to provide just one function that is time-dependent (method for predicting survival functions or cumulative hazard functions) and `survex` will automatically create the rest of the functions."
   ]
  },
  {
   "cell_type": "code",
   "execution_count": null,
   "metadata": {
    "vscode": {
     "languageId": "r"
    }
   },
   "outputs": [],
   "source": [
    "set.seed(123)\n",
    "dummy_survival_function <- stepfun(x=seq(0, 1000, length.out=100), y=seq(1, 0, length.out=101))\n",
    "dummy_survival_function2 <- stepfun(x=seq(0, 1000, length.out=100), y=seq(1, 0.5, length.out=101))\n",
    "tmp_model <- function(observation, times){\n",
    "    if (observation[1] %% 2 != 0){\n",
    "        return(dummy_survival_function(times))\n",
    "    } else {\n",
    "        return(dummy_survival_function2(times))\n",
    "    }\n",
    "}"
   ]
  },
  {
   "cell_type": "code",
   "execution_count": null,
   "metadata": {
    "vscode": {
     "languageId": "r"
    }
   },
   "outputs": [],
   "source": [
    "tmp_model(c(1, 150, 500), c(0, 100, 200, 300, 400, 500, 600, 700, 800, 900, 1000))"
   ]
  },
  {
   "cell_type": "code",
   "execution_count": null,
   "metadata": {
    "vscode": {
     "languageId": "r"
    }
   },
   "outputs": [],
   "source": [
    "tmp_model(c(2, 150, 500), c(0, 100, 200, 300, 400, 500, 600, 700, 800, 900, 1000))"
   ]
  },
  {
   "cell_type": "code",
   "execution_count": null,
   "metadata": {
    "vscode": {
     "languageId": "r"
    }
   },
   "outputs": [],
   "source": [
    "explain(tmp_model) # nothing useful"
   ]
  },
  {
   "cell_type": "code",
   "execution_count": null,
   "metadata": {
    "vscode": {
     "languageId": "r"
    }
   },
   "outputs": [],
   "source": [
    "explain_survival(tmp_model) # also nothing useful"
   ]
  },
  {
   "cell_type": "code",
   "execution_count": null,
   "metadata": {
    "vscode": {
     "languageId": "r"
    }
   },
   "outputs": [],
   "source": [
    "mock_explainer <- explain_survival(tmp_model, data = df[,3:9], y = Surv(df$time, df$status),\n",
    "        predict_survival_function = function(model, newdata, times) {\n",
    "            t(apply(newdata, 1, function(x) model(x, times)))\n",
    "            # here should be the code to predict survival function at times for newdata\n",
    "        },\n",
    "        label = \"mock_model\") "
   ]
  },
  {
   "cell_type": "code",
   "execution_count": null,
   "metadata": {
    "vscode": {
     "languageId": "r"
    }
   },
   "outputs": [],
   "source": [
    "predict(mock_explainer, df[1:5, 3:9], output_type = \"survival\")"
   ]
  },
  {
   "cell_type": "code",
   "execution_count": null,
   "metadata": {
    "vscode": {
     "languageId": "r"
    }
   },
   "outputs": [],
   "source": [
    "print(predict(mock_explainer, df[1:5, 3:9], output_type = \"risk\"))"
   ]
  },
  {
   "cell_type": "markdown",
   "metadata": {},
   "source": [
    "## Global performance - `model_performance`\n",
    "There are many performance metrics for survival models. Generally, they can be divided into two groups:\n",
    "- functional - their result is a function of time (`\"time-dependent\"` in `survex`), e.g.:\n",
    "    - cumulative/dynamic AUC <br> \n",
    "    (cumulative cases are those with the event time $\\leq t$ and dynamic cases are all individuals that experienced an event after time $t$),\n",
    "    - Brier score <br>\n",
    "    (mean squared error between predicted survival function values and survival outcomes at time $t$).\n",
    "\n",
    "    **Note:** inverse probability of censoring weight is used for all functional metrics.\n",
    "\n",
    "- aggregated - their result is a single number (`\"scalar\"` in `survex`), e.g.:\n",
    "    - concordance index <br>\n",
    "    (proportion of pairs of individuals where the model correctly predicted the order of event times/risks),\n",
    "    - integrated Brier score,\n",
    "    - integrated/dynamic AUC. \n",
    "\n",
    "These metrics are implemented in `survex` but any other metric can be easily added (there is for example utility function for adapting loss functions from the `mlr3proba` package)."
   ]
  },
  {
   "cell_type": "code",
   "execution_count": null,
   "metadata": {
    "vscode": {
     "languageId": "r"
    }
   },
   "outputs": [],
   "source": [
    "set.seed(123)\n",
    "rsf_ranger_model <- ranger(Surv(time, status) ~ ., data = df)\n",
    "rsf_ranger_explainer <- explain(rsf_ranger_model,\n",
    "                                data = df[3:9], \n",
    "                                y = Surv(df$time, df$status),\n",
    "                                times = rsf_sksurv_explainer$times)"
   ]
  },
  {
   "cell_type": "code",
   "execution_count": null,
   "metadata": {
    "vscode": {
     "languageId": "r"
    }
   },
   "outputs": [],
   "source": [
    "rsf_sksurv_performance <- model_performance(rsf_sksurv_explainer)\n",
    "rsf_ranger_performance <- model_performance(rsf_ranger_explainer)\n",
    "mock_model_performance <- model_performance(mock_explainer)"
   ]
  },
  {
   "cell_type": "code",
   "execution_count": null,
   "metadata": {
    "vscode": {
     "languageId": "r"
    }
   },
   "outputs": [],
   "source": [
    "plot(rsf_sksurv_performance, rsf_ranger_performance)"
   ]
  },
  {
   "cell_type": "code",
   "execution_count": null,
   "metadata": {
    "vscode": {
     "languageId": "r"
    }
   },
   "outputs": [],
   "source": [
    "plot(rsf_sksurv_performance, rsf_ranger_performance, mock_model_performance)"
   ]
  },
  {
   "cell_type": "code",
   "execution_count": null,
   "metadata": {
    "vscode": {
     "languageId": "r"
    }
   },
   "outputs": [],
   "source": [
    "plot(rsf_sksurv_performance, rsf_ranger_performance, mock_model_performance, metrics_type = \"scalar\")"
   ]
  },
  {
   "cell_type": "markdown",
   "metadata": {},
   "source": [
    "## Global variable importance - `model_parts`\n",
    "\n",
    "- Some models have built-in variable importance measures (e.g. random forests) but we want to have a unified method for all models.\n",
    "- We have already covered global aggregations of SurvSHAP(t) that can be used as variable importance measures.\n",
    "- Another model-agnostic approach is permutation-based importance. \n",
    "- Permutation-based importance uses a selected loss function $\\mathcal{L}$ to measure the importance of a $j$-th variable for the model as the difference between the loss function value for the original data and the data with the $j$-th variable permuted:\n",
    "  $$PVI^j(t) = \\frac{1}{B} \\sum_{i=1}^B \\mathcal{L}(y, f(X^{*j},t))    - \\mathcal{L}(y, f(X, t)),$$\n",
    "  where $B$ is the number of considered permutations, $\\mathcal{L}(y, f(X,t))$ is a loss function, and $X^{*j}$ is a model input with the $j$-th column permuted."
   ]
  },
  {
   "cell_type": "code",
   "execution_count": null,
   "metadata": {
    "vscode": {
     "languageId": "r"
    }
   },
   "outputs": [],
   "source": [
    "ranger_vimp_brier <- model_parts(rsf_ranger_explainer) "
   ]
  },
  {
   "cell_type": "code",
   "execution_count": null,
   "metadata": {
    "vscode": {
     "languageId": "r"
    }
   },
   "outputs": [],
   "source": [
    "plot(ranger_vimp_brier)"
   ]
  },
  {
   "cell_type": "code",
   "execution_count": null,
   "metadata": {
    "vscode": {
     "languageId": "r"
    }
   },
   "outputs": [],
   "source": [
    "ranger_vimp_cd_auc <- model_parts(rsf_ranger_explainer, loss_function = survex::loss_one_minus_cd_auc) "
   ]
  },
  {
   "cell_type": "code",
   "execution_count": null,
   "metadata": {
    "vscode": {
     "languageId": "r"
    }
   },
   "outputs": [],
   "source": [
    "plot(ranger_vimp_cd_auc)"
   ]
  },
  {
   "cell_type": "code",
   "execution_count": null,
   "metadata": {
    "vscode": {
     "languageId": "r"
    }
   },
   "outputs": [],
   "source": [
    "ranger_vimp_brier_integrated <- model_parts(rsf_ranger_explainer, loss_function = survex::loss_integrated_brier_score) "
   ]
  },
  {
   "cell_type": "code",
   "execution_count": null,
   "metadata": {
    "vscode": {
     "languageId": "r"
    }
   },
   "outputs": [],
   "source": [
    "plot(ranger_vimp_brier_integrated)"
   ]
  },
  {
   "cell_type": "markdown",
   "metadata": {},
   "source": [
    "## Local variable dependence - `predict_profile`\n",
    "\n",
    "- These are local explanations that show how the model prediction for the selected observation changes with the change of a single variable.\n",
    "- The method is called individual conditional expectation (ICE) and is defined as:\n",
    "  $$\\text{ICE}^j_{\\mathbf{x}_*}(z, t) = f(\\mathbf{x}_*^{j=z}, t),$$\n",
    "  where $\\mathbf{x}_*$ is the selected observation, $z$ is the value of the $j$-th variable, and $f(\\mathbf{x}_*^{j=z}, t)$ is the model prediction at time $t$ for the observation $\\mathbf{x}_*$ but with the $j$-th variable set to $z$."
   ]
  },
  {
   "cell_type": "code",
   "execution_count": null,
   "metadata": {
    "vscode": {
     "languageId": "r"
    }
   },
   "outputs": [],
   "source": [
    "patientA <- df[42, 3:9] \n",
    "patientA"
   ]
  },
  {
   "cell_type": "code",
   "execution_count": null,
   "metadata": {
    "vscode": {
     "languageId": "r"
    }
   },
   "outputs": [],
   "source": [
    "profiles_patientA <- predict_profile(rsf_ranger_explainer, patientA)"
   ]
  },
  {
   "cell_type": "code",
   "execution_count": null,
   "metadata": {
    "vscode": {
     "languageId": "r"
    }
   },
   "outputs": [],
   "source": [
    "plot(profiles_patientA, variables = \"age\")"
   ]
  },
  {
   "cell_type": "code",
   "execution_count": null,
   "metadata": {
    "vscode": {
     "languageId": "r"
    }
   },
   "outputs": [],
   "source": [
    "plot(profiles_patientA, variables = \"age\", numerical_plot_type = \"contours\") "
   ]
  },
  {
   "cell_type": "code",
   "execution_count": null,
   "metadata": {
    "vscode": {
     "languageId": "r"
    }
   },
   "outputs": [],
   "source": [
    "plot(profiles_patientA, variables = \"sex\") "
   ]
  },
  {
   "cell_type": "code",
   "execution_count": null,
   "metadata": {
    "vscode": {
     "languageId": "r"
    }
   },
   "outputs": [],
   "source": [
    "profiles_patientA_catvars <- predict_profile(rsf_ranger_explainer, patientA, categorical_variables = c(\"sex\", \"ph.ecog\"))\n",
    "plot(profiles_patientA_catvars, variables = \"sex\")"
   ]
  },
  {
   "cell_type": "code",
   "execution_count": null,
   "metadata": {
    "vscode": {
     "languageId": "r"
    }
   },
   "outputs": [],
   "source": [
    "plot(profiles_patientA, geom = \"variable\", variables = \"age\")"
   ]
  },
  {
   "cell_type": "code",
   "execution_count": null,
   "metadata": {
    "vscode": {
     "languageId": "r"
    }
   },
   "outputs": [],
   "source": [
    "plot(profiles_patientA, geom = \"variable\", variables = \"age\", times = rsf_ranger_explainer$times[seq(5, 49, 5)])"
   ]
  },
  {
   "cell_type": "code",
   "execution_count": null,
   "metadata": {
    "vscode": {
     "languageId": "r"
    }
   },
   "outputs": [],
   "source": [
    "plot(profiles_patientA, geom = \"variable\", variables = \"age\", times = rsf_ranger_explainer$times, marginalize_over_time = TRUE)"
   ]
  },
  {
   "cell_type": "markdown",
   "metadata": {},
   "source": [
    "## Global variable dependence - `model_profile`\n",
    "\n",
    "- These are global explanations that show how the model average predictions depend on the changes of a single variable (or two variables).\n",
    "- Two specific methods are available: \n",
    "    - partial dependence plots (PDP) <br>\n",
    "    (calculated as the average of ICE explanations for a given variable),\n",
    "         $$\\text{PDP}^j(z, t) = \\frac{1}{n}\\sum_{i=1}^n f(\\textbf{x}_i^{j|=z}, t),$$\n",
    "    - accumulated local effects (ALE) <br>\n",
    "    (calculated differently, by analyzing how model predictions change in small 'windows' while taking into account dependences between variables). \n"
   ]
  },
  {
   "cell_type": "code",
   "execution_count": null,
   "metadata": {
    "vscode": {
     "languageId": "r"
    }
   },
   "outputs": [],
   "source": [
    "profiles_rsf_pdp <- model_profile(rsf_ranger_explainer)"
   ]
  },
  {
   "cell_type": "code",
   "execution_count": null,
   "metadata": {
    "vscode": {
     "languageId": "r"
    }
   },
   "outputs": [],
   "source": [
    "plot(profiles_rsf_pdp, variables = \"wt.loss\")"
   ]
  },
  {
   "cell_type": "code",
   "execution_count": null,
   "metadata": {
    "vscode": {
     "languageId": "r"
    }
   },
   "outputs": [],
   "source": [
    "plot(profiles_rsf_pdp, variables = \"wt.loss\", numerical_plot_type = \"contours\")"
   ]
  },
  {
   "cell_type": "code",
   "execution_count": null,
   "metadata": {
    "vscode": {
     "languageId": "r"
    }
   },
   "outputs": [],
   "source": [
    "profiles_rsf_ale <- model_profile(rsf_ranger_explainer, type = \"accumulated\")"
   ]
  },
  {
   "cell_type": "code",
   "execution_count": null,
   "metadata": {
    "vscode": {
     "languageId": "r"
    }
   },
   "outputs": [],
   "source": [
    "plot(profiles_rsf_ale, variables = \"wt.loss\")"
   ]
  },
  {
   "cell_type": "code",
   "execution_count": null,
   "metadata": {
    "vscode": {
     "languageId": "r"
    }
   },
   "outputs": [],
   "source": [
    "plot(profiles_rsf_ale, variables = \"wt.loss\", numerical_plot_type = \"contours\")"
   ]
  },
  {
   "cell_type": "code",
   "execution_count": null,
   "metadata": {
    "vscode": {
     "languageId": "r"
    }
   },
   "outputs": [],
   "source": [
    "plot(profiles_rsf_pdp, geom=\"variable\", variables = \"wt.loss\", times = rsf_ranger_explainer$times[c(5, 20, 35)], plot_type = \"pdp+ice\")"
   ]
  },
  {
   "cell_type": "code",
   "execution_count": null,
   "metadata": {
    "vscode": {
     "languageId": "r"
    }
   },
   "outputs": [],
   "source": [
    "plot(profiles_rsf_pdp, geom=\"variable\", variables = \"wt.loss\", times = rsf_ranger_explainer$times[seq(5, 49, 5)], plot_type = \"pdp\")"
   ]
  },
  {
   "cell_type": "code",
   "execution_count": null,
   "metadata": {
    "vscode": {
     "languageId": "r"
    }
   },
   "outputs": [],
   "source": [
    "plot(profiles_rsf_ale, geom=\"variable\", variables = \"wt.loss\", times = rsf_ranger_explainer$times[seq(5, 49, 5)])"
   ]
  },
  {
   "cell_type": "code",
   "execution_count": null,
   "metadata": {
    "vscode": {
     "languageId": "r"
    }
   },
   "outputs": [],
   "source": [
    "profiles_rsf_catvars <- model_profile(rsf_ranger_explainer, type = \"partial\", categorical_variables = c(\"sex\", \"ph.ecog\"))"
   ]
  },
  {
   "cell_type": "code",
   "execution_count": null,
   "metadata": {
    "vscode": {
     "languageId": "r"
    }
   },
   "outputs": [],
   "source": [
    "plot(profiles_rsf_catvars, geom = \"variable\", variables = \"ph.ecog\", times = rsf_ranger_explainer$times[c(5, 20, 35)])"
   ]
  },
  {
   "cell_type": "code",
   "execution_count": null,
   "metadata": {
    "vscode": {
     "languageId": "r"
    }
   },
   "outputs": [],
   "source": [
    "profile_2d_rsf_pdp <- model_profile_2d(rsf_ranger_explainer,\n",
    "                                variables = list(c(\"age\", \"wt.loss\")),\n",
    "                                grid_points = 10)\n",
    "\n",
    "profile_2d_rsf_ale <- model_profile_2d(rsf_ranger_explainer,\n",
    "                                variables = list(c(\"age\", \"wt.loss\")),\n",
    "                                grid_points = 25,\n",
    "                                type = \"accumulated\")"
   ]
  },
  {
   "cell_type": "code",
   "execution_count": null,
   "metadata": {
    "vscode": {
     "languageId": "r"
    }
   },
   "outputs": [],
   "source": [
    "plot(profile_2d_rsf_pdp, times = rsf_ranger_explainer$times, marginalize_over_time = TRUE)"
   ]
  },
  {
   "cell_type": "code",
   "execution_count": null,
   "metadata": {
    "vscode": {
     "languageId": "r"
    }
   },
   "outputs": [],
   "source": [
    "plot(profile_2d_rsf_ale, times = rsf_ranger_explainer$times, marginalize_over_time = TRUE)"
   ]
  },
  {
   "cell_type": "markdown",
   "metadata": {},
   "source": [
    "## Q&A"
   ]
  }
 ],
 "metadata": {
  "kernelspec": {
   "display_name": "R",
   "language": "R",
   "name": "ir"
  },
  "language_info": {
   "codemirror_mode": "r",
   "file_extension": ".r",
   "mimetype": "text/x-r-source",
   "name": "R",
   "pygments_lexer": "r",
   "version": "4.3.1"
  }
 },
 "nbformat": 4,
 "nbformat_minor": 2
}
