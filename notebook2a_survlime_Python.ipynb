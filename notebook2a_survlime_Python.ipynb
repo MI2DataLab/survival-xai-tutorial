{
 "cells": [
  {
   "cell_type": "markdown",
   "metadata": {},
   "source": [
    "# Dancing with censored data: How to survive with explainable survival analysis?\n",
    "**ML in PL Conference 2023**\n",
    "\n",
    "\n",
    "Mateusz Krzyziński, Mikołaj Spytek (**MI2.AI**)\n"
   ]
  },
  {
   "cell_type": "markdown",
   "metadata": {},
   "source": [
    "## Agenda\n",
    "\n",
    "- 9:00 - 9:15 - Introduction, technicalities\n",
    "- 9:15 - 10:00 - ML in survival analysis, creating models `(Python and R)`\n",
    "- 10:00 - 10:10 - *break*\n",
    "\n",
    "- 10:10 - 10:20 - XAI in survival analysis\n",
    "- 10:20 - 10:45 - SurvLIME `(Python and R)`\n",
    "- 10:45 - 11:30 - SurvSHAP(t) and its aggregations `(Python and R)`\n",
    "- 11:30 - 11:40 - *break*\n",
    "\n",
    "- 11:40 - 11:50 - creating explainers for any models `(R with Python via reticulate)`\n",
    "- 11:50 - 12:15 - global performance & global variable importance explanations `(R)`\n",
    "- 12:15 - 12:30 - local variable dependence explanations `(R)`\n",
    "- 12:30 - 12:45 - global variable dependence explanations `(R)`\n",
    "- 12:45 - 13:00 - summary and Q&A\n"
   ]
  },
  {
   "cell_type": "markdown",
   "metadata": {},
   "source": [
    "## Why we need explanations for survival models?\n",
    "\n",
    "**Complex machine learning survival models are used more and more often (also in healthcare and scientific research) because**:\n",
    "- Cox PH model cannot model complex dependencies and has the strong assumption of proportional hazards that is often not met,\n",
    "- ML models are more flexible and can model complex dependencies, but they are often treated as black boxes.\n",
    "\n",
    "\n",
    "<img src=\"images/need_quotes.png\" width=\"1000\">\n",
    "\n",
    "\n",
    "\n",
    "\n",
    "\n",
    "\n",
    "### More about medical context \n",
    "\n",
    "The **overoptimistic** use of AI models in medicine **→** The need for a method of **validation** other than just performance validation.\n",
    "> There exists a notable tendency among some researchers steeped in ML to report only the model performance metrics. XAI techniques offer a means to validate and explore survival models, effectively complementing performance validation. They enable to shift of the focus towards model reliability and accountability rather than solely optimizing model performance metrics. This shift is crucial in mitigating the risk of over-optimistic assessments of complex models, thereby promoting responsible and informed model usage.\n",
    "\n",
    "The **complexity** and **lack of interpretability** of AI models **→** The need for a method of **examining** models that would make it possible to understand their operation.\n",
    "> Researchers rely on survival models to analyze the effectiveness of new therapies, explore genetic markers associated with diseases, or evaluate the impact of lifestyle factors on health outcomes. Given the vast implications of these models, ensuring that their predictions are not only accurate but also interpretable becomes a matter of utmost importance\n",
    "\n",
    "\n",
    "\n"
   ]
  },
  {
   "cell_type": "markdown",
   "metadata": {},
   "source": [
    "## XAI as model exploration stack\n",
    "\n",
    "- There are many different types of (survival) models, and each of them has its own structure. \n",
    "- Altough model-specific approaches are possible, it is much more convenient to use a model-agnostic approach. \n",
    "- In this approach, the model is wrapped in an abstract object, and the explanation methods are applied to this object (they are usually based on the analysis of the model's predictions). \n",
    "\n",
    "<img src=\"images/piramide.png\" width=\"800\">\n",
    "\n",
    "**Read more:** https://ema.drwhy.ai\n",
    "\n",
    "\n",
    "## Tools\n",
    "- In R, we will use the [`survex`](https://modeloriented.github.io/survex/) package that follows similar principles.\n",
    "<br/>\n",
    "<img src=\"images/survex.png\" width=\"800\"><br/>\n",
    "Spytek, M., Krzyziński, M., Langbein, S. H., Baniecki, H., Wright, M. N., & Biecek, P. (2023). **survex: an R package for explaining machine learning survival models**. arXiv preprint arXiv:2308.16113. https://arxiv.org/abs/2308.16113\n",
    "\n",
    "- In Python, we will use the [`survlimepy`](https://github.com/imatge-upc/SurvLIMEpy) and [`survshap`](https://github.com/MI2DataLab/survshap) packages. \n",
    "<br/>"
   ]
  },
  {
   "cell_type": "markdown",
   "metadata": {},
   "source": [
    "## Important!\n",
    "\n",
    "**Warning!** Due to some unusual dependencies of the `survlimepy` package this notebook needs to be run with `Python 3.10` and the requirements listed in `survlimepy_requirements.txt`.\n",
    "\n",
    "***This is different than all other Python requirements for the other notebooks!!!***"
   ]
  },
  {
   "cell_type": "code",
   "execution_count": null,
   "metadata": {},
   "outputs": [],
   "source": [
    "# pip install survlimepy_requirements.txt"
   ]
  },
  {
   "cell_type": "markdown",
   "metadata": {},
   "source": [
    "## Loading packages"
   ]
  },
  {
   "cell_type": "code",
   "execution_count": null,
   "metadata": {},
   "outputs": [],
   "source": [
    "import random\n",
    "import pandas as pd\n",
    "from matplotlib import pyplot as plt\n",
    "\n",
    "import warnings\n",
    "\n",
    "warnings.filterwarnings(\"ignore\")\n",
    "\n",
    "from survlimepy.survlime_explainer import SurvLimeExplainer\n",
    "from sksurv.ensemble import RandomSurvivalForest\n",
    "from sksurv.linear_model import CoxPHSurvivalAnalysis\n",
    "from sksurv.datasets import get_x_y"
   ]
  },
  {
   "cell_type": "markdown",
   "metadata": {},
   "source": [
    "## Loading data"
   ]
  },
  {
   "cell_type": "code",
   "execution_count": null,
   "metadata": {},
   "outputs": [],
   "source": [
    "df = pd.read_csv(\"datasets/veterans.csv\")\n",
    "df = df.dropna()\n",
    "df = pd.get_dummies(df, drop_first=True, dtype=float)\n",
    "\n",
    "X, y = get_x_y(df, [\"status\", \"time\"], pos_label=1)"
   ]
  },
  {
   "cell_type": "markdown",
   "metadata": {},
   "source": [
    "## Creating models"
   ]
  },
  {
   "cell_type": "code",
   "execution_count": null,
   "metadata": {},
   "outputs": [],
   "source": [
    "cph_model = CoxPHSurvivalAnalysis()\n",
    "cph_model.fit(X, y)"
   ]
  },
  {
   "cell_type": "code",
   "execution_count": null,
   "metadata": {},
   "outputs": [],
   "source": [
    "random.seed(123)\n",
    "rsf_model = RandomSurvivalForest(n_estimators=100)\n",
    "rsf_model.fit(X, y)"
   ]
  },
  {
   "cell_type": "markdown",
   "metadata": {},
   "source": [
    "## Creating explainers\n",
    "\n",
    "In the design of the `survlimepy`"
   ]
  },
  {
   "cell_type": "code",
   "execution_count": null,
   "metadata": {},
   "outputs": [],
   "source": [
    "cph_explainer = SurvLimeExplainer(\n",
    "    training_features= X,\n",
    "    training_events = [tmp[0] for tmp in y],\n",
    "    training_times = [tmp[1] for tmp in y],\n",
    "    model_output_times = cph_model.event_times_,\n",
    "    random_state = 42)\n",
    "\n",
    "\n",
    "rsf_explainer = SurvLimeExplainer(\n",
    "    training_features= X,\n",
    "    training_events = [tmp[0] for tmp in y],\n",
    "    training_times = [tmp[1] for tmp in y],\n",
    "    model_output_times = rsf_model.event_times_,\n",
    "    random_state = 42)"
   ]
  },
  {
   "cell_type": "markdown",
   "metadata": {},
   "source": [
    "## SurvLIME"
   ]
  },
  {
   "cell_type": "markdown",
   "metadata": {},
   "source": [
    "- based on LIME (Local Interpretable Model-agnostic Explanations) method \n",
    "- local explanation method (for one observation & prediction)\n",
    "- **main idea:** approximate the black-box model locally with a simple interpretable model - apply the Cox proportional hazards model to approximate the black-box model\n",
    "- **the explanation:** coefficients of the locally fitted Cox model\n",
    "- those coefficients are calculated based on distance between cumulative hazard functions of black-box model and surrogate model\n",
    "$\\min_{\\mathbf{b}}\\sum_{k=1}^{N}w_{k}\\sum_{j=0}^{m}v_{kj}^{2}\\left(  \\ln\n",
    "H_{j}(\\mathbf{x}_{k})-\\ln H_{0j}-\\mathbf{b}^{\\mathrm{T}}\\mathbf{x}_{k}\\right)\n",
    "^{2}\\left(  t_{j+1}-t_{j}\\right)$\n",
    "\n",
    "<img src=\"images/survlime.png\" width=\"600\"/>\n",
    "\n",
    "Kovalev, M. S., Utkin, L. V., & Kasimov, E. M. (2020). **SurvLIME: A method for explaining machine learning survival models**. Knowledge-Based Systems, 203, 106164. https://doi.org/10.1016/j.knosys.2020.106164\n",
    "Pachón-García, C., Hernández-Pérez, C., Delicado, P., & Vilaplana, V. (2024). **SurvLIMEpy: A Python package implementing SurvLIME**. Expert Systems with Applications, 237, 121620. https://doi.org/10.1016/j.eswa.2023.121620\n"
   ]
  },
  {
   "cell_type": "code",
   "execution_count": null,
   "metadata": {},
   "outputs": [],
   "source": [
    "patientA = X.iloc[23]\n",
    "patientA"
   ]
  },
  {
   "cell_type": "code",
   "execution_count": null,
   "metadata": {},
   "outputs": [],
   "source": [
    "pred_cph = cph_model.predict_survival_function(pd.DataFrame([patientA]))\n",
    "pred_rsf = rsf_model.predict_survival_function(pd.DataFrame([patientA]))\n",
    "\n",
    "plt.plot(pred_cph[0].x, pred_cph[0].y, label=\"CoxPH\")\n",
    "plt.plot(pred_rsf[0].x, pred_rsf[0].y, label=\"RSF\")\n",
    "plt.xlim(0, 300)\n",
    "plt.legend()"
   ]
  },
  {
   "cell_type": "code",
   "execution_count": null,
   "metadata": {},
   "outputs": [],
   "source": [
    "cph_explanation = cph_explainer.explain_instance(\n",
    "    data_row = patientA,\n",
    "    predict_fn=cph_model.predict_cumulative_hazard_function,\n",
    "    num_samples = 100)\n",
    "\n",
    "print(cph_explanation)\n",
    "\n",
    "cph_explainer.plot_weights(figsize=(6, 4))"
   ]
  },
  {
   "cell_type": "code",
   "execution_count": null,
   "metadata": {},
   "outputs": [],
   "source": [
    "cph_explanation * patientA "
   ]
  },
  {
   "cell_type": "markdown",
   "metadata": {},
   "source": [
    "### Parameters\n",
    "- kernel width - how to calculate weights for observations generated as neighbours (**bug in the current version of the package - not possible to change this parameter**) \n",
    "- number of neighbours - how many neighbours to generate\n",
    "- functional norm - which distance between cumulative hazard functions is optimized"
   ]
  },
  {
   "cell_type": "code",
   "execution_count": null,
   "metadata": {},
   "outputs": [],
   "source": [
    "cph_explainer = SurvLimeExplainer(\n",
    "    training_features= X,\n",
    "    training_events = [tmp[0] for tmp in y],\n",
    "    training_times = [tmp[1] for tmp in y],\n",
    "    model_output_times = cph_model.event_times_,\n",
    "    random_state = 42,\n",
    "    functional_norm = \"inf\")"
   ]
  },
  {
   "cell_type": "code",
   "execution_count": null,
   "metadata": {},
   "outputs": [],
   "source": [
    "cph_explanation = cph_explainer.explain_instance(\n",
    "    data_row = patientA,\n",
    "    predict_fn = cph_model.predict_cumulative_hazard_function,\n",
    "    num_samples = 100)\n",
    "\n",
    "print(cph_explanation)\n",
    "\n",
    "cph_explainer.plot_weights(figsize=(6, 4))"
   ]
  },
  {
   "cell_type": "markdown",
   "metadata": {},
   "source": [
    "### Problems for non-linear models\n",
    "- Predictions from surrogate model are often far from predictions of black-box model. The reason is that the surrogate model is too simple to approximate more complex black-box models. \n",
    "- Explanations are not stable. "
   ]
  },
  {
   "cell_type": "code",
   "execution_count": null,
   "metadata": {},
   "outputs": [],
   "source": [
    "rsf_explanation = rsf_explainer.explain_instance(\n",
    "    data_row = patientA,\n",
    "    predict_fn = rsf_model.predict_cumulative_hazard_function,\n",
    "    num_samples = 100)\n",
    "\n",
    "print(rsf_explanation)\n",
    "\n",
    "rsf_explainer.plot_weights(figsize=(6, 4))"
   ]
  },
  {
   "cell_type": "code",
   "execution_count": null,
   "metadata": {},
   "outputs": [],
   "source": [
    "rsf_explanation = rsf_explainer.explain_instance(\n",
    "    data_row = patientA,\n",
    "    predict_fn = rsf_model.predict_cumulative_hazard_function,\n",
    "    num_samples = 100)\n",
    "\n",
    "print(rsf_explanation)\n",
    "\n",
    "rsf_explainer.plot_weights(figsize=(6, 4))"
   ]
  }
 ],
 "metadata": {
  "kernelspec": {
   "display_name": ".venv",
   "language": "python",
   "name": "python3"
  },
  "language_info": {
   "codemirror_mode": {
    "name": "ipython",
    "version": 3
   },
   "file_extension": ".py",
   "mimetype": "text/x-python",
   "name": "python",
   "nbconvert_exporter": "python",
   "pygments_lexer": "ipython3",
   "version": "3.10.5"
  }
 },
 "nbformat": 4,
 "nbformat_minor": 2
}
