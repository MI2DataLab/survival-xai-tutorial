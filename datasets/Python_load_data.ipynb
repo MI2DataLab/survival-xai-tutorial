{
 "cells": [
  {
   "cell_type": "markdown",
   "metadata": {},
   "source": [
    "# Code snippets for loading survival datasets into R"
   ]
  },
  {
   "cell_type": "code",
   "execution_count": 1,
   "metadata": {},
   "outputs": [],
   "source": [
    "import pandas as pd\n",
    "from sksurv.datasets import get_x_y"
   ]
  },
  {
   "cell_type": "markdown",
   "metadata": {},
   "source": [
    "## `lung`\n",
    "\n",
    "Sourced from the R `survival` package.\n",
    "\n",
    "**Shape:**\n",
    "167 observations of 7 variables\n",
    "\n",
    "Survival in patients with advanced lung cancer from the North Central Cancer Treatment Group. Performance scores rate how well the patient can perform usual daily activities.\n",
    "\n",
    "**References:**\n",
    "- Loprinzi CL. et al. (1994). Prospective evaluation of prognostic variables from patient-completed questionnaires. North Central Cancer Treatment Group. Journal of Clinical Oncology. 12(3):601-7."
   ]
  },
  {
   "cell_type": "code",
   "execution_count": 2,
   "metadata": {},
   "outputs": [],
   "source": [
    "lung_df = pd.read_csv('lung_dataset.csv')\n",
    "lung_df = lung_df.dropna()\n",
    "\n",
    "X, y = get_x_y(lung_df, [\"status\", \"time\"], pos_label=1)"
   ]
  },
  {
   "cell_type": "markdown",
   "metadata": {},
   "source": [
    "## `diabetic`\n",
    "\n",
    "Sourced from the R `survival` package.\n",
    "\n",
    "**Shape:**\n",
    "394 observations of 6 variables\n",
    "\n",
    "Partial results from a trial of laser coagulation for the treatment of diabetic retinopathy.\n",
    "\n",
    "**References:**\n",
    "- Huster, Brookmeyer and Self, Biometrics, 1989.\n",
    "- American Journal of Ophthalmology, 1976, 81:4, pp 383-396"
   ]
  },
  {
   "cell_type": "code",
   "execution_count": 4,
   "metadata": {},
   "outputs": [],
   "source": [
    "diabetic_df = pd.read_csv('diabetic_dataset.csv')\n",
    "diabetic_df = diabetic_df.dropna()\n",
    "\n",
    "X, y = get_x_y(diabetic_df, [\"status\", \"time\"], pos_label=1)"
   ]
  },
  {
   "cell_type": "markdown",
   "metadata": {},
   "source": [
    "## `flchain`\n",
    "\n",
    "Sourced from the R `survival` package.\n",
    "\n",
    "**Shape:**\n",
    "1962 observations of 8 variables\n",
    "\n",
    "This is a stratified random sample containing 1/2 of the subjects from a study of the relationship between serum free light chain (FLC) and mortality. \n",
    "\n",
    "**References:**\n",
    "- A Dispenzieri et al. (2012). Use of monclonal serum immunoglobulin free light chains to predict overall survival in the general population, Mayo Clinic Proceedings 87:512-523.\n",
    "- R Kyle et al. (2006). Prevalence of monoclonal gammopathy of undetermined significance, New England J Medicine 354:1362-1369.\n",
    "\n",
    "**Notes:**\n",
    "- sex:  0=male, 1=female"
   ]
  },
  {
   "cell_type": "code",
   "execution_count": 5,
   "metadata": {},
   "outputs": [],
   "source": [
    "flchain_df = pd.read_csv('flchain_dataset.csv')\n",
    "flchain_df = flchain_df.dropna()\n",
    "X, y = get_x_y(flchain_df, [\"death\", \"futime\"], pos_label=1)"
   ]
  },
  {
   "cell_type": "markdown",
   "metadata": {},
   "source": [
    "## `rotterdam`\n",
    "\n",
    "Sourced from the R `survival` package.\n",
    "\n",
    "**Shape:**\n",
    "2982 observations of 9 variables\n",
    "\n",
    "This dataset includes 2982 primary breast cancers patients whose records were included in the Rotterdam tumor bank.\n",
    "\n",
    "**References:**\n",
    "- Patrick Royston and Douglas Altman. (2013). External validation of a Cox prognostic model: principles and methods. BMC Medical Research Methodology, 13:33\n",
    "\n",
    "**Notes:**\n",
    "- size: 1: <=20;  2: 20-50;  3: >50"
   ]
  },
  {
   "cell_type": "code",
   "execution_count": 6,
   "metadata": {},
   "outputs": [],
   "source": [
    "rotterdam_df = pd.read_csv('rotterdam_dataset.csv')\n",
    "rotterdam_df = rotterdam_df.dropna()\n",
    "\n",
    "X, y = get_x_y(rotterdam_df, [\"death\", \"dtime\"], pos_label=1)"
   ]
  },
  {
   "cell_type": "markdown",
   "metadata": {},
   "source": [
    "## `patient`\n",
    "\n",
    "Sourced from the R `pammtools` package.\n",
    "\n",
    "**Shape:**\n",
    "1985 observations of 6 variables\n",
    "\n",
    "A data set containing the survival time (or hospital release time) among other covariates. The full data is available [here](https://github.com/adibender/elra-biostats). \n",
    "\n",
    "**Notes:**\n",
    "- Gender:  0=male, 1=female\n"
   ]
  },
  {
   "cell_type": "code",
   "execution_count": 7,
   "metadata": {},
   "outputs": [],
   "source": [
    "patient_df = pd.read_csv('patient_dataset.csv')\n",
    "patient_df = patient_df.dropna()\n",
    "patient_df = pd.get_dummies(patient_df, drop_first = True, dtype = float)\n",
    "\n",
    "X, y = get_x_y(patient_df, [\"PatientDied\", \"Survdays\"], pos_label=1)"
   ]
  },
  {
   "cell_type": "markdown",
   "metadata": {},
   "source": [
    "## `pbc`\n",
    "\n",
    "Sourced from the R `randomForestSRC` package.\n",
    "\n",
    "**Shape:**\n",
    "276 observations of 17 variables\n",
    "\n",
    "This data is from the Mayo Clinic trial in PBC conducted between 1974 and 1984. A total of 424 PBC patients, referred to Mayo Clinic during that ten-year interval, met eligibility criteria for the randomized placebo controlled trial of the drug D-penicillamine.\n",
    "\n",
    "**References:**\n",
    "- T. Therneau and P. Grambsch (2000). Modeling Survival Data: Extending the Cox Model, Springer-Verlag, New York. ISBN: 0-387-98784-3."
   ]
  },
  {
   "cell_type": "code",
   "execution_count": 8,
   "metadata": {},
   "outputs": [],
   "source": [
    "pbc_df = pd.read_csv('pbc_dataset.csv')\n",
    "pbc_df = pbc_df.dropna()\n",
    "\n",
    "X, y = get_x_y(pbc_df, [\"status\", \"days\"], pos_label=1)"
   ]
  },
  {
   "cell_type": "markdown",
   "metadata": {},
   "source": [
    "## `ttm`\n",
    "\n",
    "Sourced from the R `censored` package.\n",
    "\n",
    "**Shape:**\n",
    "551 observations of 11 variables. \n",
    "\n",
    "Number of days before a movie grosses $1M USD. These data are a somewhat biased random sample of 551 movies released between 2015 and 2018.\n"
   ]
  },
  {
   "cell_type": "code",
   "execution_count": 9,
   "metadata": {},
   "outputs": [],
   "source": [
    "ttm_df = pd.read_csv('ttm_dataset.csv')\n",
    "ttm_df = ttm_df.dropna()\n",
    "\n",
    "X, y = get_x_y(ttm_df, [\"event\", \"time\"], pos_label=1)"
   ]
  }
 ],
 "metadata": {
  "kernelspec": {
   "display_name": ".venv",
   "language": "python",
   "name": "python3"
  },
  "language_info": {
   "codemirror_mode": {
    "name": "ipython",
    "version": 3
   },
   "file_extension": ".py",
   "mimetype": "text/x-python",
   "name": "python",
   "nbconvert_exporter": "python",
   "pygments_lexer": "ipython3",
   "version": "3.10.5"
  }
 },
 "nbformat": 4,
 "nbformat_minor": 2
}
