{
 "cells": [
  {
   "cell_type": "markdown",
   "metadata": {},
   "source": [
    "# Dancing with censored data: How to survive with explainable survival analysis?\n",
    "**ML in PL Conference 2023**\n",
    "\n",
    "\n",
    "Mateusz Krzyziński, Mikołaj Spytek (**MI2.AI**)\n"
   ]
  },
  {
   "cell_type": "markdown",
   "metadata": {},
   "source": [
    "## Agenda\n",
    "\n",
    "- 9:00 - 9:15 - Introduction, technicalities\n",
    "- 9:15 - 10:00 - ML in survival analysis, creating models `(Python and R)`\n",
    "- 10:00 - 10:10 - *break*\n",
    "\n",
    "- 10:10 - 10:20 - XAI in survival analysis\n",
    "- 10:20 - 10:45 - SurvLIME `(Python and R)`\n",
    "- 10:45 - 11:30 - SurvSHAP(t) and its aggregations `(Python and R)`\n",
    "- 11:30 - 11:40 - *break*\n",
    "\n",
    "- 11:40 - 11:50 - creating explainers for any models `(R with Python via reticulate)`\n",
    "- 11:50 - 12:15 - global performance & global variable importance explanations `(R)`\n",
    "- 12:15 - 12:30 - local variable dependence explanations `(R)`\n",
    "- 12:30 - 12:45 - global variable dependence explanations `(R)`\n",
    "- 12:45 - 13:00 - summary and Q&A\n"
   ]
  },
  {
   "cell_type": "markdown",
   "metadata": {},
   "source": [
    "## Loading packages"
   ]
  },
  {
   "cell_type": "code",
   "execution_count": null,
   "metadata": {},
   "outputs": [],
   "source": [
    "import random\n",
    "import pandas as pd\n",
    "from sksurv.ensemble import RandomSurvivalForest\n",
    "from sksurv.datasets import get_x_y"
   ]
  },
  {
   "cell_type": "markdown",
   "metadata": {},
   "source": [
    "## Loading data"
   ]
  },
  {
   "cell_type": "code",
   "execution_count": null,
   "metadata": {},
   "outputs": [],
   "source": [
    "df = pd.read_csv(\"datasets/lung_dataset.csv\")\n",
    "df = df.dropna()\n",
    "\n",
    "X, y = get_x_y(df, [\"status\", \"time\"], pos_label=1)"
   ]
  },
  {
   "cell_type": "markdown",
   "metadata": {},
   "source": [
    "## Creating model"
   ]
  },
  {
   "cell_type": "code",
   "execution_count": null,
   "metadata": {},
   "outputs": [],
   "source": [
    "random.seed(123)\n",
    "rsf_model = RandomSurvivalForest(n_estimators=100)\n",
    "rsf_model.fit(X, y)"
   ]
  },
  {
   "cell_type": "markdown",
   "metadata": {},
   "source": [
    "## Saving model"
   ]
  },
  {
   "cell_type": "code",
   "execution_count": null,
   "metadata": {},
   "outputs": [],
   "source": [
    "import pickle \n",
    "pickle.dump(rsf_model, open(\"./rsf_sksurv_model.pkl\", \"wb\"))"
   ]
  }
 ],
 "metadata": {
  "kernelspec": {
   "display_name": ".venv",
   "language": "python",
   "name": "python3"
  },
  "language_info": {
   "codemirror_mode": {
    "name": "ipython",
    "version": 3
   },
   "file_extension": ".py",
   "mimetype": "text/x-python",
   "name": "python",
   "nbconvert_exporter": "python",
   "pygments_lexer": "ipython3",
   "version": "3.9.6"
  }
 },
 "nbformat": 4,
 "nbformat_minor": 2
}
